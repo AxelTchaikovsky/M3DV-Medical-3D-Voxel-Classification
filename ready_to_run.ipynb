{
 "nbformat": 4,
 "nbformat_minor": 2,
 "metadata": {
  "language_info": {
   "name": "python",
   "codemirror_mode": {
    "name": "ipython",
    "version": 3
   },
   "version": "3.7.5"
  },
  "orig_nbformat": 2,
  "file_extension": ".py",
  "mimetype": "text/x-python",
  "name": "python",
  "npconvert_exporter": "python",
  "pygments_lexer": "ipython3",
  "version": 3
 },
 "cells": [
  {
   "cell_type": "markdown",
   "execution_count": null,
   "metadata": {},
   "outputs": [],
   "source": [
    "# SJTU M3DV: Medical 3D Voxel Classification #\n",
    "\n",
    "## EE369 Machine Learning 2019 Autumn Class Competition ##"
   ]
  },
  {
   "cell_type": "markdown",
   "execution_count": null,
   "metadata": {},
   "outputs": [],
   "source": [
    "# The walkthrough code\n",
    "First you can create a new environment and install the requirements.txt using the following code"
   ]
  },
  {
   "cell_type": "code",
   "execution_count": 1,
   "metadata": {},
   "outputs": [
    {
     "name": "stdout",
     "output_type": "stream",
     "text": "Collecting package metadata (current_repodata.json): ...working... done\nSolving environment: ...working... failed with initial frozen solve. Retrying with flexible solve.\nCollecting package metadata (repodata.json): ...working... done\nSolving environment: ...working... failed with initial frozen solve. Retrying with flexible solve.\n\nNote: you may need to restart the kernel to use updated packages.\n\nPackagesNotFoundError: The following packages are not available from current channels:\n\n  - text-unidecode==1.3=pypi_0\n  - python-slugify==4.0.0=pypi_0\n  - opencv-python==4.1.1.26=pypi_0\n  - torchsummary==1.5.1=pypi_0\n  - kaggle==1.5.6=pypi_0\n\nCurrent channels:\n\n  - https://repo.anaconda.com/pkgs/main/win-64\n  - https://repo.anaconda.com/pkgs/main/noarch\n  - https://repo.anaconda.com/pkgs/r/win-64\n  - https://repo.anaconda.com/pkgs/r/noarch\n  - https://repo.anaconda.com/pkgs/msys2/win-64\n  - https://repo.anaconda.com/pkgs/msys2/noarch\n\nTo search for alternate channels that may provide the conda package you're\nlooking for, navigate to\n\n    https://anaconda.org\n\nand use the search bar at the top of the page.\n\n\n"
    }
   ],
   "source": [
    "conda install --yes --file requirements.txt"
   ]
  },
  {
   "cell_type": "markdown",
   "execution_count": 3,
   "metadata": {},
   "outputs": [],
   "source": [
    "# Using the fine-tuned model to generate results of Medical 3D Voxel Classification.\n",
    "\n",
    "The output of the network will be stored in the folder **result/recon.csv**"
   ]
  },
  {
   "cell_type": "code",
   "execution_count": 2,
   "metadata": {},
   "outputs": [
    {
     "name": "stdout",
     "output_type": "stream",
     "text": "Id     Predicted\n0     candidate11  2.672686e-01\n1     candidate13  9.999919e-01\n2     candidate15  3.140321e-01\n3     candidate17  9.999139e-01\n4     candidate22  2.826648e-01\n..            ...           ...\n112  candidate563  9.751061e-01\n113  candidate564  9.298227e-01\n114  candidate565  1.113491e-08\n115  candidate580  8.978256e-01\n116  candidate582  7.722388e-01\n\n[117 rows x 2 columns]\nsubmit_recon.py:59: UserWarning: Implicit dimension choice for softmax has been deprecated. Change the call to include dim=X as an argument.\n  out1 = t.nn.functional.softmax(model1(data))\nsubmit_recon.py:60: UserWarning: Implicit dimension choice for softmax has been deprecated. Change the call to include dim=X as an argument.\n  out2 = t.nn.functional.softmax(model2(data))\nTraceback (most recent call last):\n  File \"submit_recon.py\", line 71, in <module>\n    test_dict_df.to_csv('result/recon.csv', index=False)\n  File \"C:\\Users\\ZXLi\\Anaconda3\\envs\\pytorch\\lib\\site-packages\\pandas\\core\\generic.py\", line 3228, in to_csv\n    formatter.save()\n  File \"C:\\Users\\ZXLi\\Anaconda3\\envs\\pytorch\\lib\\site-packages\\pandas\\io\\formats\\csvs.py\", line 183, in save\n    compression=self.compression,\n  File \"C:\\Users\\ZXLi\\Anaconda3\\envs\\pytorch\\lib\\site-packages\\pandas\\io\\common.py\", line 399, in _get_handle\n    f = open(path_or_buf, mode, encoding=encoding, newline=\"\")\nPermissionError: [Errno 13] Permission denied: 'result/recon.csv'\n"
    }
   ],
   "source": [
    "!python submit_recon.py"
   ]
  }
 ]
}